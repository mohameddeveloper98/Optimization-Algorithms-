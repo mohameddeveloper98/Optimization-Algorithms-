{
 "cells": [
  {
   "cell_type": "markdown",
   "id": "6534f8e7",
   "metadata": {},
   "source": [
    "## Day 1 Homework\n",
    "## Muhammad Mahmoud Siddik\n",
    "## Track: AI (Group 2)"
   ]
  },
  {
   "cell_type": "markdown",
   "id": "91c6afa7",
   "metadata": {},
   "source": [
    "If we have the data points (x_points, y_points) with x_points = [1,1,2,3,4,5,6,7,8,9,10,11]\n",
    "\n",
    "and y_points = [1,2,3,1,4,5,6,4,7,10,15,9],\n",
    "\n",
    "use the GD algorithm to find the best values for theta0 and theta1 \n",
    "(having y = theta0 + theta1*x the equation of a line that should fit the data points)."
   ]
  },
  {
   "cell_type": "code",
   "execution_count": 7,
   "id": "65fa464c",
   "metadata": {},
   "outputs": [],
   "source": [
    "# import libraries\n",
    "import numpy as np\n",
    "import pandas as pd\n",
    "import matplotlib.pyplot as plt"
   ]
  },
  {
   "cell_type": "code",
   "execution_count": 8,
   "id": "b748edf8",
   "metadata": {},
   "outputs": [],
   "source": [
    "# Defining the Matrecies \n",
    "x1 = np.array([[1],[1],[2],[3],[4],[5],[6],[7],[8],[9],[10],[11]]) \n",
    "\n",
    "x_points = np.insert(x1,0,np.ones(12),axis=1)\n",
    "\n",
    "y_points = np.array([[1],[2],[3],[1],[4],[5],[6],[4],[7],[10],[15],[9]])\n",
    "\n",
    "theta = np.matrix(np.array([0,0])) \n"
   ]
  },
  {
   "cell_type": "code",
   "execution_count": 21,
   "id": "98585623",
   "metadata": {},
   "outputs": [
    {
     "name": "stdout",
     "output_type": "stream",
     "text": [
      "ComputeCost(X,y,theta) = 23.458333333333332\n"
     ]
    }
   ],
   "source": [
    "# cost function\n",
    "def ComputeCost(X,y,theta):\n",
    "    \n",
    "    z = np.power(((X * theta.T) - y),2)\n",
    "    \n",
    "    return np.sum(z) / (2 * len(X))\n",
    "\n",
    "print(f\"ComputeCost(X,y,theta) = {ComputeCost(x_points,y_points,theta)}\")"
   ]
  },
  {
   "cell_type": "code",
   "execution_count": 22,
   "id": "2e8584d9",
   "metadata": {},
   "outputs": [],
   "source": [
    "# GD function\n",
    "def GradientDescent(X,y,theta,alpha,iters):\n",
    "    \n",
    "    temp = np.matrix(np.zeros(theta.shape))\n",
    "    parameters = int(theta.ravel().shape[1])\n",
    "    cost = np.zeros(iters)\n",
    "    \n",
    "    for i in range(iters):\n",
    "        error = (X * theta.T) - y\n",
    "        \n",
    "        for j in range(parameters):\n",
    "            term = np.multiply(error, X[:,j])\n",
    "            temp[0,j] = theta[0,j] - ((alpha / len(X)) * np.sum(term))\n",
    "            \n",
    "        theta = temp\n",
    "        cost[i] = ComputeCost(X, y, theta)\n",
    "        \n",
    "    return theta, cost\n"
   ]
  },
  {
   "cell_type": "code",
   "execution_count": 28,
   "id": "df0d8e19",
   "metadata": {},
   "outputs": [],
   "source": [
    "# initialize variables for learning rate and iterations\n",
    "alpha = 0.005\n",
    "\n",
    "iters = 1200"
   ]
  },
  {
   "cell_type": "code",
   "execution_count": 29,
   "id": "966f25c5",
   "metadata": {},
   "outputs": [
    {
     "name": "stdout",
     "output_type": "stream",
     "text": [
      "new theta = [[0.17353766 0.96891863]]\n",
      "\n",
      "ComputeCost = 1.9349674209892678\n"
     ]
    }
   ],
   "source": [
    "# perform gradient desent to fit the model parameters\n",
    "new_theta, cost = GradientDescent(x_points,y_points,theta,alpha,iters)\n",
    "print(f\"new theta = {new_theta}\\n\")\n",
    "# print(f\"cost = {cost}\\n\")\n",
    "print(f\"ComputeCost = {ComputeCost(x_points,y_points,new_theta)}\")"
   ]
  },
  {
   "cell_type": "code",
   "execution_count": 30,
   "id": "dd003312",
   "metadata": {},
   "outputs": [],
   "source": [
    "x =np.linspace(x_points.min(),x_points.max(),100)\n",
    "f = new_theta[0,0] + (new_theta[0,1] * x)"
   ]
  },
  {
   "cell_type": "code",
   "execution_count": 31,
   "id": "f0d14ed8",
   "metadata": {},
   "outputs": [
    {
     "data": {
      "image/png": "[encoded data removed]",
      "text/plain": [
       "<Figure size 432x288 with 1 Axes>"
      ]
     },
     "metadata": {
      "needs_background": "light"
     },
     "output_type": "display_data"
    }
   ],
   "source": [
    "#draw the line\n",
    "plt.plot(x,f,'r',label='Prediction')\n",
    "plt.scatter(x1,y_points,label='Traning Data')\n",
    "plt.legend()\n",
    "plt.xlabel('Population')\n",
    "plt.ylabel('Profit')\n",
    "plt.title('Predicted Profite VS. Population Size')\n",
    "plt.show()"
   ]
  },
  {
   "cell_type": "code",
   "execution_count": 32,
   "id": "3b2ddf1b",
   "metadata": {},
   "outputs": [
    {
     "data": {
      "image/png": "[encoded data removed]",
      "text/plain": [
       "<Figure size 432x288 with 1 Axes>"
      ]
     },
     "metadata": {
      "needs_background": "light"
     },
     "output_type": "display_data"
    }
   ],
   "source": [
    "# draw error graph\n",
    "plt.plot(np.arange(iters),cost,'r')\n",
    "plt.xlabel(\"Iterations\")\n",
    "plt.ylabel(\"Cost\")\n",
    "plt.title(\"Error VS. Traning Epoch\")\n",
    "plt.show()"
   ]
  },
  {
   "cell_type": "code",
   "execution_count": null,
   "id": "f5500b29",
   "metadata": {},
   "outputs": [],
   "source": []
  }
 ],
 "metadata": {
  "kernelspec": {
   "display_name": "Python 3 (ipykernel)",
   "language": "python",
   "name": "python3"
  },
  "language_info": {
   "codemirror_mode": {
    "name": "ipython",
    "version": 3
   },
   "file_extension": ".py",
   "mimetype": "text/x-python",
   "name": "python",
   "nbconvert_exporter": "python",
   "pygments_lexer": "ipython3",
   "version": "3.9.7"
  }
 },
 "nbformat": 4,
 "nbformat_minor": 5
}
